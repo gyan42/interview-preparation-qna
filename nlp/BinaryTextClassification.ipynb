{
  "nbformat": 4,
  "nbformat_minor": 0,
  "metadata": {
    "colab": {
      "name": "BinaryTextClassification.ipynb",
      "provenance": [],
      "collapsed_sections": []
    },
    "kernelspec": {
      "name": "python3",
      "display_name": "Python 3"
    },
    "language_info": {
      "name": "python"
    },
    "widgets": {
      "application/vnd.jupyter.widget-state+json": {
        "ab304a97d0ea45b39a5303becbb8c649": {
          "model_module": "@jupyter-widgets/controls",
          "model_name": "HBoxModel",
          "model_module_version": "1.5.0",
          "state": {
            "_view_name": "HBoxView",
            "_dom_classes": [],
            "_model_name": "HBoxModel",
            "_view_module": "@jupyter-widgets/controls",
            "_model_module_version": "1.5.0",
            "_view_count": null,
            "_view_module_version": "1.5.0",
            "box_style": "",
            "layout": "IPY_MODEL_3eaab6c85b244c69bdf6d9ba9c7ad358",
            "_model_module": "@jupyter-widgets/controls",
            "children": [
              "IPY_MODEL_b5f8385ff1564899993d26d9fe8464cf",
              "IPY_MODEL_92aa724f8b3643888819f190989f1aef",
              "IPY_MODEL_5731b2f13a1d46b393984dde2df6ee10"
            ]
          }
        },
        "3eaab6c85b244c69bdf6d9ba9c7ad358": {
          "model_module": "@jupyter-widgets/base",
          "model_name": "LayoutModel",
          "model_module_version": "1.2.0",
          "state": {
            "_view_name": "LayoutView",
            "grid_template_rows": null,
            "right": null,
            "justify_content": null,
            "_view_module": "@jupyter-widgets/base",
            "overflow": null,
            "_model_module_version": "1.2.0",
            "_view_count": null,
            "flex_flow": null,
            "width": null,
            "min_width": null,
            "border": null,
            "align_items": null,
            "bottom": null,
            "_model_module": "@jupyter-widgets/base",
            "top": null,
            "grid_column": null,
            "overflow_y": null,
            "overflow_x": null,
            "grid_auto_flow": null,
            "grid_area": null,
            "grid_template_columns": null,
            "flex": null,
            "_model_name": "LayoutModel",
            "justify_items": null,
            "grid_row": null,
            "max_height": null,
            "align_content": null,
            "visibility": null,
            "align_self": null,
            "height": null,
            "min_height": null,
            "padding": null,
            "grid_auto_rows": null,
            "grid_gap": null,
            "max_width": null,
            "order": null,
            "_view_module_version": "1.2.0",
            "grid_template_areas": null,
            "object_position": null,
            "object_fit": null,
            "grid_auto_columns": null,
            "margin": null,
            "display": null,
            "left": null
          }
        },
        "b5f8385ff1564899993d26d9fe8464cf": {
          "model_module": "@jupyter-widgets/controls",
          "model_name": "HTMLModel",
          "model_module_version": "1.5.0",
          "state": {
            "_view_name": "HTMLView",
            "style": "IPY_MODEL_04fccadb86674f5eba0a83398745c0c6",
            "_dom_classes": [],
            "description": "",
            "_model_name": "HTMLModel",
            "placeholder": "​",
            "_view_module": "@jupyter-widgets/controls",
            "_model_module_version": "1.5.0",
            "value": "100%",
            "_view_count": null,
            "_view_module_version": "1.5.0",
            "description_tooltip": null,
            "_model_module": "@jupyter-widgets/controls",
            "layout": "IPY_MODEL_c1fd270c8f3344069dd198fa223ab2f3"
          }
        },
        "92aa724f8b3643888819f190989f1aef": {
          "model_module": "@jupyter-widgets/controls",
          "model_name": "FloatProgressModel",
          "model_module_version": "1.5.0",
          "state": {
            "_view_name": "ProgressView",
            "style": "IPY_MODEL_7c13d6acbd5b4ae1a1332875e4c30457",
            "_dom_classes": [],
            "description": "",
            "_model_name": "FloatProgressModel",
            "bar_style": "success",
            "max": 2,
            "_view_module": "@jupyter-widgets/controls",
            "_model_module_version": "1.5.0",
            "value": 2,
            "_view_count": null,
            "_view_module_version": "1.5.0",
            "orientation": "horizontal",
            "min": 0,
            "description_tooltip": null,
            "_model_module": "@jupyter-widgets/controls",
            "layout": "IPY_MODEL_1e2a2b6f48c045ac9191b9b7dc150373"
          }
        },
        "5731b2f13a1d46b393984dde2df6ee10": {
          "model_module": "@jupyter-widgets/controls",
          "model_name": "HTMLModel",
          "model_module_version": "1.5.0",
          "state": {
            "_view_name": "HTMLView",
            "style": "IPY_MODEL_954f1c67657c4b6dabe44d7e1f56347e",
            "_dom_classes": [],
            "description": "",
            "_model_name": "HTMLModel",
            "placeholder": "​",
            "_view_module": "@jupyter-widgets/controls",
            "_model_module_version": "1.5.0",
            "value": " 2/2 [00:00&lt;00:00, 43.82it/s]",
            "_view_count": null,
            "_view_module_version": "1.5.0",
            "description_tooltip": null,
            "_model_module": "@jupyter-widgets/controls",
            "layout": "IPY_MODEL_a3ba2ef4d64e4e10a87166947b8a8044"
          }
        },
        "04fccadb86674f5eba0a83398745c0c6": {
          "model_module": "@jupyter-widgets/controls",
          "model_name": "DescriptionStyleModel",
          "model_module_version": "1.5.0",
          "state": {
            "_view_name": "StyleView",
            "_model_name": "DescriptionStyleModel",
            "description_width": "",
            "_view_module": "@jupyter-widgets/base",
            "_model_module_version": "1.5.0",
            "_view_count": null,
            "_view_module_version": "1.2.0",
            "_model_module": "@jupyter-widgets/controls"
          }
        },
        "c1fd270c8f3344069dd198fa223ab2f3": {
          "model_module": "@jupyter-widgets/base",
          "model_name": "LayoutModel",
          "model_module_version": "1.2.0",
          "state": {
            "_view_name": "LayoutView",
            "grid_template_rows": null,
            "right": null,
            "justify_content": null,
            "_view_module": "@jupyter-widgets/base",
            "overflow": null,
            "_model_module_version": "1.2.0",
            "_view_count": null,
            "flex_flow": null,
            "width": null,
            "min_width": null,
            "border": null,
            "align_items": null,
            "bottom": null,
            "_model_module": "@jupyter-widgets/base",
            "top": null,
            "grid_column": null,
            "overflow_y": null,
            "overflow_x": null,
            "grid_auto_flow": null,
            "grid_area": null,
            "grid_template_columns": null,
            "flex": null,
            "_model_name": "LayoutModel",
            "justify_items": null,
            "grid_row": null,
            "max_height": null,
            "align_content": null,
            "visibility": null,
            "align_self": null,
            "height": null,
            "min_height": null,
            "padding": null,
            "grid_auto_rows": null,
            "grid_gap": null,
            "max_width": null,
            "order": null,
            "_view_module_version": "1.2.0",
            "grid_template_areas": null,
            "object_position": null,
            "object_fit": null,
            "grid_auto_columns": null,
            "margin": null,
            "display": null,
            "left": null
          }
        },
        "7c13d6acbd5b4ae1a1332875e4c30457": {
          "model_module": "@jupyter-widgets/controls",
          "model_name": "ProgressStyleModel",
          "model_module_version": "1.5.0",
          "state": {
            "_view_name": "StyleView",
            "_model_name": "ProgressStyleModel",
            "description_width": "",
            "_view_module": "@jupyter-widgets/base",
            "_model_module_version": "1.5.0",
            "_view_count": null,
            "_view_module_version": "1.2.0",
            "bar_color": null,
            "_model_module": "@jupyter-widgets/controls"
          }
        },
        "1e2a2b6f48c045ac9191b9b7dc150373": {
          "model_module": "@jupyter-widgets/base",
          "model_name": "LayoutModel",
          "model_module_version": "1.2.0",
          "state": {
            "_view_name": "LayoutView",
            "grid_template_rows": null,
            "right": null,
            "justify_content": null,
            "_view_module": "@jupyter-widgets/base",
            "overflow": null,
            "_model_module_version": "1.2.0",
            "_view_count": null,
            "flex_flow": null,
            "width": null,
            "min_width": null,
            "border": null,
            "align_items": null,
            "bottom": null,
            "_model_module": "@jupyter-widgets/base",
            "top": null,
            "grid_column": null,
            "overflow_y": null,
            "overflow_x": null,
            "grid_auto_flow": null,
            "grid_area": null,
            "grid_template_columns": null,
            "flex": null,
            "_model_name": "LayoutModel",
            "justify_items": null,
            "grid_row": null,
            "max_height": null,
            "align_content": null,
            "visibility": null,
            "align_self": null,
            "height": null,
            "min_height": null,
            "padding": null,
            "grid_auto_rows": null,
            "grid_gap": null,
            "max_width": null,
            "order": null,
            "_view_module_version": "1.2.0",
            "grid_template_areas": null,
            "object_position": null,
            "object_fit": null,
            "grid_auto_columns": null,
            "margin": null,
            "display": null,
            "left": null
          }
        },
        "954f1c67657c4b6dabe44d7e1f56347e": {
          "model_module": "@jupyter-widgets/controls",
          "model_name": "DescriptionStyleModel",
          "model_module_version": "1.5.0",
          "state": {
            "_view_name": "StyleView",
            "_model_name": "DescriptionStyleModel",
            "description_width": "",
            "_view_module": "@jupyter-widgets/base",
            "_model_module_version": "1.5.0",
            "_view_count": null,
            "_view_module_version": "1.2.0",
            "_model_module": "@jupyter-widgets/controls"
          }
        },
        "a3ba2ef4d64e4e10a87166947b8a8044": {
          "model_module": "@jupyter-widgets/base",
          "model_name": "LayoutModel",
          "model_module_version": "1.2.0",
          "state": {
            "_view_name": "LayoutView",
            "grid_template_rows": null,
            "right": null,
            "justify_content": null,
            "_view_module": "@jupyter-widgets/base",
            "overflow": null,
            "_model_module_version": "1.2.0",
            "_view_count": null,
            "flex_flow": null,
            "width": null,
            "min_width": null,
            "border": null,
            "align_items": null,
            "bottom": null,
            "_model_module": "@jupyter-widgets/base",
            "top": null,
            "grid_column": null,
            "overflow_y": null,
            "overflow_x": null,
            "grid_auto_flow": null,
            "grid_area": null,
            "grid_template_columns": null,
            "flex": null,
            "_model_name": "LayoutModel",
            "justify_items": null,
            "grid_row": null,
            "max_height": null,
            "align_content": null,
            "visibility": null,
            "align_self": null,
            "height": null,
            "min_height": null,
            "padding": null,
            "grid_auto_rows": null,
            "grid_gap": null,
            "max_width": null,
            "order": null,
            "_view_module_version": "1.2.0",
            "grid_template_areas": null,
            "object_position": null,
            "object_fit": null,
            "grid_auto_columns": null,
            "margin": null,
            "display": null,
            "left": null
          }
        }
      }
    }
  },
  "cells": [
    {
      "cell_type": "markdown",
      "metadata": {
        "id": "TVtiD4R_YwFy"
      },
      "source": [
        "# Binary Text Classification\n",
        "\n",
        "https://colab.research.google.com/drive/1qeDOAvtlyBTq7K2eza45b8RZ1_FRrHw_?usp=sharing#scrollTo=tj0I6dneApZ5"
      ]
    },
    {
      "cell_type": "markdown",
      "metadata": {
        "id": "rSP8gOfyMm7G"
      },
      "source": [
        "**How to choose which model to use for trianing?**\n",
        "\n",
        "- If the features can be captured with regex, go with it\n",
        "- If the data size is small\n",
        "- Number of sample and average number of words per sample\n",
        "- Model size consideration\n",
        "- Model load and response time\n",
        "\n",
        "\n",
        "\n"
      ]
    },
    {
      "cell_type": "markdown",
      "metadata": {
        "id": "RepUwlz8gKlE"
      },
      "source": [
        "**Feature Enginerring**\n",
        "\n",
        "- N-Grams\n",
        "- Count Vectorizer \n",
        "  - n-grams\n",
        "  - word frequency\n",
        "- Term Frequency Inverse Document Frequency\n",
        "  - n-grams\n",
        "  - word frequency\n",
        "  - char level\n",
        "- Word Embeddings\n",
        "  - fasttext\n",
        "  - spacy\n",
        "  - gensim\n",
        "- Sentence Embeddings\n"
      ]
    },
    {
      "cell_type": "markdown",
      "metadata": {
        "id": "G_nlJZdBheWL"
      },
      "source": [
        "**Tokenizer**\n",
        "\n",
        "- spaCy\n",
        "- Gensim\n",
        "- Keras\n",
        "- Pytorch"
      ]
    },
    {
      "cell_type": "markdown",
      "metadata": {
        "id": "hm01AcfYf-N5"
      },
      "source": [
        "**Models**\n",
        "\n",
        "- Multinomial Naïve Bayes (NB)\n",
        "  - Laplace Smoothing\n",
        "- Logistic Regression (LR)\n",
        "- SVM (SVM)\n",
        "- Stochastic Gradient Descent (SGD)\n",
        "- k-Nearest-Neighbors (kNN)\n",
        "- RandomForest (RF)\n",
        "- Gradient Boosting (GB)\n",
        "- XGBoost (the famous) (XGB)\n",
        "- Adaboost\n",
        "- Catboost\n",
        "- LigthGBM\n",
        "- ExtraTreesClassifier\n"
      ]
    },
    {
      "cell_type": "markdown",
      "metadata": {
        "id": "OXHMmeSyd2zu"
      },
      "source": [
        "**Model Evaluation**\n",
        "\n",
        "For classification we will use the terms:\n",
        "- `TP`: True positive prediction\n",
        "- `TN`: True negative prediction\n",
        "- `FP`: False-positive prediction\n",
        "- `FN`: False-negative prediction\n",
        "\n",
        "![](https://miro.medium.com/max/693/1*7EYylA6XlXSGBCF77j_rOA.png)\n",
        "\n",
        "\n",
        "- Accuracy $\\frac{TP+TN}{TP+FP+TN+FN}$ \n",
        "- Recall $\\frac{TP}{TP+FN}$ from all the positive classes, how many we predicted correctly.\n",
        "- Precision $\\frac{TP}{TP+FP}$ from all the classes we have predicted as positive, how many are actually positive or From all the classes we have predicted True, how many are actually True.\n",
        "- F1-measure $\\frac{2*Recall*Precision}{Recall+Precision}$ It uses Harmonic Mean in place of Arithmetic Mean by punishing the extreme values more.\n",
        "- [Cohen kappa](https://scikit-learn.org/stable/modules/generated/sklearn.metrics.cohen_kappa_score.html#sklearn.metrics.cohen_kappa_score) : It’s a score that expresses the level of agreement between two annotators on a classification problem. So if the value is less than 0.4 is pretty bad, between 0.4 and 0.6 it,s equivalent to human, 0.6 to 0.8 it’s a great value, more than 0.8 it’s exceptional.\n",
        "- [Matthews Correlation Coefficient](https://scikit-learn.org/stable/modules/generated/sklearn.metrics.matthews_corrcoef.html#sklearn.metrics.matthews_corrcoef) for imbalanced dataset. Values ranges from $-1 \\space to \\space +1$\n",
        "- [Area Under the Receiver Operating Characteristic Curve (ROC AUC)](https://scikit-learn.org/stable/modules/generated/sklearn.metrics.roc_auc_score.html#sklearn.metrics.roc_auc_score)\n"
      ]
    },
    {
      "cell_type": "code",
      "metadata": {
        "id": "QP2-8a4x2cpg"
      },
      "source": [
        "! pip install spacy\n",
        "! python -m spacy download en_core_web_lg"
      ],
      "execution_count": null,
      "outputs": []
    },
    {
      "cell_type": "code",
      "metadata": {
        "colab": {
          "base_uri": "https://localhost:8080/"
        },
        "id": "yiyjz7A6PiKF",
        "outputId": "adbf2871-4745-41ed-dd80-a00ad122ce75"
      },
      "source": [
        "! pwd\n",
        "! pip install datasets\n",
        "! pip install fasttext"
      ],
      "execution_count": null,
      "outputs": [
        {
          "output_type": "stream",
          "name": "stdout",
          "text": [
            "/content\n",
            "Collecting datasets\n",
            "  Downloading datasets-1.14.0-py3-none-any.whl (290 kB)\n",
            "\u001b[K     |████████████████████████████████| 290 kB 5.0 MB/s \n",
            "\u001b[?25hRequirement already satisfied: multiprocess in /usr/local/lib/python3.7/dist-packages (from datasets) (0.70.12.2)\n",
            "Collecting xxhash\n",
            "  Downloading xxhash-2.0.2-cp37-cp37m-manylinux2010_x86_64.whl (243 kB)\n",
            "\u001b[K     |████████████████████████████████| 243 kB 50.5 MB/s \n",
            "\u001b[?25hCollecting fsspec[http]>=2021.05.0\n",
            "  Downloading fsspec-2021.10.1-py3-none-any.whl (125 kB)\n",
            "\u001b[K     |████████████████████████████████| 125 kB 49.8 MB/s \n",
            "\u001b[?25hRequirement already satisfied: dill in /usr/local/lib/python3.7/dist-packages (from datasets) (0.3.4)\n",
            "Requirement already satisfied: tqdm>=4.62.1 in /usr/local/lib/python3.7/dist-packages (from datasets) (4.62.3)\n",
            "Requirement already satisfied: packaging in /usr/local/lib/python3.7/dist-packages (from datasets) (21.0)\n",
            "Requirement already satisfied: pandas in /usr/local/lib/python3.7/dist-packages (from datasets) (1.1.5)\n",
            "Requirement already satisfied: pyarrow!=4.0.0,>=1.0.0 in /usr/local/lib/python3.7/dist-packages (from datasets) (3.0.0)\n",
            "Requirement already satisfied: numpy>=1.17 in /usr/local/lib/python3.7/dist-packages (from datasets) (1.19.5)\n",
            "Requirement already satisfied: requests>=2.19.0 in /usr/local/lib/python3.7/dist-packages (from datasets) (2.23.0)\n",
            "Collecting huggingface-hub<0.1.0,>=0.0.19\n",
            "  Downloading huggingface_hub-0.0.19-py3-none-any.whl (56 kB)\n",
            "\u001b[K     |████████████████████████████████| 56 kB 4.5 MB/s \n",
            "\u001b[?25hCollecting aiohttp\n",
            "  Downloading aiohttp-3.7.4.post0-cp37-cp37m-manylinux2014_x86_64.whl (1.3 MB)\n",
            "\u001b[K     |████████████████████████████████| 1.3 MB 42.5 MB/s \n",
            "\u001b[?25hRequirement already satisfied: importlib-metadata in /usr/local/lib/python3.7/dist-packages (from datasets) (4.8.1)\n",
            "Requirement already satisfied: typing-extensions in /usr/local/lib/python3.7/dist-packages (from huggingface-hub<0.1.0,>=0.0.19->datasets) (3.7.4.3)\n",
            "Requirement already satisfied: pyyaml in /usr/local/lib/python3.7/dist-packages (from huggingface-hub<0.1.0,>=0.0.19->datasets) (3.13)\n",
            "Requirement already satisfied: filelock in /usr/local/lib/python3.7/dist-packages (from huggingface-hub<0.1.0,>=0.0.19->datasets) (3.3.0)\n",
            "Requirement already satisfied: pyparsing>=2.0.2 in /usr/local/lib/python3.7/dist-packages (from packaging->datasets) (2.4.7)\n",
            "Requirement already satisfied: chardet<4,>=3.0.2 in /usr/local/lib/python3.7/dist-packages (from requests>=2.19.0->datasets) (3.0.4)\n",
            "Requirement already satisfied: idna<3,>=2.5 in /usr/local/lib/python3.7/dist-packages (from requests>=2.19.0->datasets) (2.10)\n",
            "Requirement already satisfied: urllib3!=1.25.0,!=1.25.1,<1.26,>=1.21.1 in /usr/local/lib/python3.7/dist-packages (from requests>=2.19.0->datasets) (1.24.3)\n",
            "Requirement already satisfied: certifi>=2017.4.17 in /usr/local/lib/python3.7/dist-packages (from requests>=2.19.0->datasets) (2021.5.30)\n",
            "Collecting multidict<7.0,>=4.5\n",
            "  Downloading multidict-5.2.0-cp37-cp37m-manylinux_2_5_x86_64.manylinux1_x86_64.manylinux_2_12_x86_64.manylinux2010_x86_64.whl (160 kB)\n",
            "\u001b[K     |████████████████████████████████| 160 kB 55.7 MB/s \n",
            "\u001b[?25hCollecting async-timeout<4.0,>=3.0\n",
            "  Downloading async_timeout-3.0.1-py3-none-any.whl (8.2 kB)\n",
            "Requirement already satisfied: attrs>=17.3.0 in /usr/local/lib/python3.7/dist-packages (from aiohttp->datasets) (21.2.0)\n",
            "Collecting yarl<2.0,>=1.0\n",
            "  Downloading yarl-1.7.0-cp37-cp37m-manylinux_2_5_x86_64.manylinux1_x86_64.manylinux_2_12_x86_64.manylinux2010_x86_64.whl (271 kB)\n",
            "\u001b[K     |████████████████████████████████| 271 kB 58.4 MB/s \n",
            "\u001b[?25hRequirement already satisfied: zipp>=0.5 in /usr/local/lib/python3.7/dist-packages (from importlib-metadata->datasets) (3.6.0)\n",
            "Requirement already satisfied: python-dateutil>=2.7.3 in /usr/local/lib/python3.7/dist-packages (from pandas->datasets) (2.8.2)\n",
            "Requirement already satisfied: pytz>=2017.2 in /usr/local/lib/python3.7/dist-packages (from pandas->datasets) (2018.9)\n",
            "Requirement already satisfied: six>=1.5 in /usr/local/lib/python3.7/dist-packages (from python-dateutil>=2.7.3->pandas->datasets) (1.15.0)\n",
            "Installing collected packages: multidict, yarl, async-timeout, fsspec, aiohttp, xxhash, huggingface-hub, datasets\n",
            "Successfully installed aiohttp-3.7.4.post0 async-timeout-3.0.1 datasets-1.14.0 fsspec-2021.10.1 huggingface-hub-0.0.19 multidict-5.2.0 xxhash-2.0.2 yarl-1.7.0\n",
            "Collecting fasttext\n",
            "  Downloading fasttext-0.9.2.tar.gz (68 kB)\n",
            "\u001b[K     |████████████████████████████████| 68 kB 3.1 MB/s \n",
            "\u001b[?25hCollecting pybind11>=2.2\n",
            "  Using cached pybind11-2.8.1-py2.py3-none-any.whl (208 kB)\n",
            "Requirement already satisfied: setuptools>=0.7.0 in /usr/local/lib/python3.7/dist-packages (from fasttext) (57.4.0)\n",
            "Requirement already satisfied: numpy in /usr/local/lib/python3.7/dist-packages (from fasttext) (1.19.5)\n",
            "Building wheels for collected packages: fasttext\n",
            "  Building wheel for fasttext (setup.py) ... \u001b[?25l\u001b[?25hdone\n",
            "  Created wheel for fasttext: filename=fasttext-0.9.2-cp37-cp37m-linux_x86_64.whl size=3127295 sha256=1c4592e05eebcd25d6fd7b9444dbf2bbad91d840691f3b6f8651f45a260b3da7\n",
            "  Stored in directory: /root/.cache/pip/wheels/4e/ca/bf/b020d2be95f7641801a6597a29c8f4f19e38f9c02a345bab9b\n",
            "Successfully built fasttext\n",
            "Installing collected packages: pybind11, fasttext\n",
            "Successfully installed fasttext-0.9.2 pybind11-2.8.1\n"
          ]
        }
      ]
    },
    {
      "cell_type": "code",
      "metadata": {
        "id": "M7Xc9Ko2PTJJ"
      },
      "source": [
        "import os\n",
        "from collections import defaultdict\n",
        "os.makedirs(\"/content/models\", exist_ok=True)\n",
        "\n",
        "import pandas as pd\n",
        "import numpy as np\n",
        "import spacy\n",
        "\n",
        "from matplotlib import pyplot as plt\n",
        "from tqdm import tqdm"
      ],
      "execution_count": null,
      "outputs": []
    },
    {
      "cell_type": "code",
      "metadata": {
        "id": "Y_GN1baHxWF4"
      },
      "source": [
        "# Datasets\n",
        "from datasets import load_dataset"
      ],
      "execution_count": null,
      "outputs": []
    },
    {
      "cell_type": "code",
      "metadata": {
        "id": "L1t4TjPQr_3r"
      },
      "source": [
        "# Feature Engineering\n",
        "from sklearn.preprocessing import LabelEncoder\n",
        "from sklearn.feature_extraction.text import CountVectorizer\n",
        "# Equivalent to CountVectorizer followed by TfidfTransformer.\n",
        "from sklearn.feature_extraction.text import TfidfVectorizer\n"
      ],
      "execution_count": null,
      "outputs": []
    },
    {
      "cell_type": "code",
      "metadata": {
        "id": "cxcLeLXIrvV-"
      },
      "source": [
        "# Models\n",
        "from sklearn.naive_bayes import MultinomialNB\n",
        "from sklearn.svm import LinearSVC\n",
        "import fasttext\n",
        "from sklearn.ensemble import RandomForestClassifier"
      ],
      "execution_count": null,
      "outputs": []
    },
    {
      "cell_type": "code",
      "metadata": {
        "id": "RV8KsYNZqgdm"
      },
      "source": [
        "# Metrics\n",
        "from sklearn import metrics\n",
        "from sklearn.metrics import matthews_corrcoef\n",
        "from sklearn.metrics import roc_auc_score\n",
        "from sklearn.metrics import confusion_matrix\n",
        "from sklearn.metrics import cohen_kappa_score\n",
        "from sklearn.metrics import precision_score\n",
        "from sklearn.metrics import accuracy_score"
      ],
      "execution_count": null,
      "outputs": []
    },
    {
      "cell_type": "code",
      "metadata": {
        "id": "UHrZma4UvDkM"
      },
      "source": [
        "# NLP libraries\n",
        "import spacy\n",
        "import gensim"
      ],
      "execution_count": null,
      "outputs": []
    },
    {
      "cell_type": "code",
      "metadata": {
        "id": "WQXXSQqYrTtf"
      },
      "source": [
        "import en_core_web_lg\n",
        "nlp = en_core_web_lg.load()"
      ],
      "execution_count": null,
      "outputs": []
    },
    {
      "cell_type": "code",
      "metadata": {
        "id": "di7CmOYUvORi"
      },
      "source": [
        "# nlp = spacy.load('en_core_web_lg')\n",
        "def sentence2vec(sentence):\n",
        "  vec = None\n",
        "  with nlp.disable_pipes():\n",
        "    vec = nlp(sentence).vector\n",
        "  return vec\n",
        "\n",
        "sentence2vec(sentence=\"This is a test sentence\")"
      ],
      "execution_count": null,
      "outputs": []
    },
    {
      "cell_type": "code",
      "metadata": {
        "id": "J_SJOcQarbwn"
      },
      "source": [
        "# Tokenizers / Preprocessing\n",
        "\n",
        "# When you need lowercase, tokenized words\n",
        "from gensim.utils import simple_preprocess "
      ],
      "execution_count": null,
      "outputs": []
    },
    {
      "cell_type": "code",
      "metadata": {
        "id": "0N8R5fi3vlwj"
      },
      "source": [
        "# Misc\n",
        "from sklearn.utils import class_weight"
      ],
      "execution_count": null,
      "outputs": []
    },
    {
      "cell_type": "markdown",
      "metadata": {
        "id": "BgkDUKYEZss7"
      },
      "source": [
        "## Dataset - Limit\n",
        "\n",
        "https://huggingface.co/datasets/viewer/?dataset=limit\n"
      ]
    },
    {
      "cell_type": "markdown",
      "metadata": {
        "id": "zRhjygBPssh4"
      },
      "source": [
        "# Preprocessing"
      ]
    },
    {
      "cell_type": "code",
      "metadata": {
        "id": "dGOUIpFVsrYR"
      },
      "source": [
        "def remove_URL( text):\n",
        "    '''\n",
        "    Function to remove url from text.\n",
        "    @param text: (str) sentence\n",
        "    @return: (str) clean text\n",
        "    \n",
        "    '''\n",
        "    url = re.compile(r'https?://\\S+|www\\.\\S+')\n",
        "    return url.sub(r'',text)\n",
        "  \n",
        "  \n",
        "def remove_html( text):\n",
        "    '''\n",
        "    Function regex to clean text from html balises.\n",
        "    @param text: (str) sentence \n",
        "    @return: (str) clean text \n",
        "    '''\n",
        "    html=re.compile(r'<.*?>')\n",
        "    return html.sub(r'',text)"
      ],
      "execution_count": null,
      "outputs": []
    },
    {
      "cell_type": "markdown",
      "metadata": {
        "id": "PQ30lVL_rBql"
      },
      "source": [
        "# Dataset Wrapper + Feature Engineering"
      ]
    },
    {
      "cell_type": "code",
      "metadata": {
        "id": "u2N3JBhkq-ec"
      },
      "source": [
        "class LimitTextDataset(object):\n",
        "  def __init__(self):\n",
        "    self._train_labels = None\n",
        "    self._test_labels = None\n",
        "    self._train_count_vector = None\n",
        "    self._test_count_vector = None\n",
        "    self._train_tfidf_vector = None\n",
        "    self._test_tfidf_vector = None\n",
        "    self._train_sentence_vector = None\n",
        "    self._test_sentence_vector = None\n",
        "\n",
        "    self._hf_dataset = load_dataset('limit')\n",
        "    self._label_encoder = LabelEncoder()\n",
        "    self._label_encoder_model = self._label_encoder.fit(self.train_labels_raw)\n",
        "\n",
        "    self._count_vectorizer = CountVectorizer(stop_words='english',\n",
        "                                             ngram_range=(1,3),\n",
        "                                             max_features=15000)\n",
        "    self._count_vectorizer_model = self._count_vectorizer.fit(self.train_sentences)   \n",
        "\n",
        "    self._tfidf_vectorizer = TfidfVectorizer(analyzer='word', \n",
        "                                             stop_words='english',\n",
        "                                             smooth_idf=True,\n",
        "                                             ngram_range=(1,3),\n",
        "                                             use_idf=True,\n",
        "                                             max_features=15000)\n",
        "    self._tfidf_vectorizer_model = self._tfidf_vectorizer.fit(self.train_sentences)\n",
        "\n",
        "  @property\n",
        "  def train_sentences(self):\n",
        "    return self._hf_dataset['train']['sentence']\n",
        "\n",
        "  @property\n",
        "  def test_sentences(self):\n",
        "    return self._hf_dataset['test']['sentence']\n",
        "\n",
        "  @property\n",
        "  def train_labels_raw(self):\n",
        "    return self._hf_dataset['train'][\"motion\"]\n",
        "\n",
        "  @property\n",
        "  def test_labels_raw(self):\n",
        "    return self._hf_dataset['test'][\"motion\"]\n",
        "\n",
        "  @property\n",
        "  def train_labels(self):\n",
        "    if self._train_labels is None:\n",
        "      self._train_labels = self._label_encoder_model.transform(self.train_labels_raw)\n",
        "    return self._train_labels\n",
        "\n",
        "  @property\n",
        "  def test_labels(self):\n",
        "    if self._test_labels is None:\n",
        "      self._test_labels = self._label_encoder_model.transform(self.test_labels_raw)\n",
        "    return self._test_labels\n",
        "\n",
        "  @property\n",
        "  def train_count_vector(self):\n",
        "    if self._train_count_vector is None:\n",
        "       self._train_count_vector = self._count_vectorizer_model.transform(self.train_sentences)\n",
        "    return self._train_count_vector\n",
        "\n",
        "  @property\n",
        "  def test_count_vector(self):\n",
        "    if self._test_count_vector is None:\n",
        "       self._test_count_vector = self._count_vectorizer_model.transform(self.test_sentences)\n",
        "    return self._test_count_vector\n",
        "  \n",
        "  @property\n",
        "  def train_tfidf_vector(self):\n",
        "    if self._train_tfidf_vector is None:\n",
        "      self._train_tfidf_vector = self._tfidf_vectorizer_model.transform(self.train_sentences)\n",
        "    return self._train_tfidf_vector\n",
        "\n",
        "  @property\n",
        "  def test_tfidf_vector(self):\n",
        "    if self._test_tfidf_vector is None:\n",
        "      self._test_tfidf_vector = self._tfidf_vectorizer_model.transform(self.test_sentences)\n",
        "    return self._test_tfidf_vector\n",
        "\n",
        "  @property\n",
        "  def train_sentence_vector(self):\n",
        "    if self._train_sentence_vector is None:\n",
        "      self._train_sentence_vector = np.array([sentence2vec(sentence) for sentence in tqdm(self.train_sentences)])\n",
        "    return self._train_sentence_vector\n",
        "\n",
        "  @property\n",
        "  def test_sentence_vector(self):\n",
        "    if self._test_sentence_vector is None:\n",
        "      self._test_sentence_vector = np.array([sentence2vec(sentence) \n",
        "                                    for sentence in tqdm(self.test_sentences)])\n",
        "    return self._test_sentence_vector\n",
        "\n",
        "  def classification_report(self, test_predictions):\n",
        "    report = metrics.classification_report(y_true=self.test_labels, \n",
        "                                           y_pred=test_predictions, \n",
        "                                           target_names=['no', 'yes'])\n",
        "    return report\n"
      ],
      "execution_count": null,
      "outputs": []
    },
    {
      "cell_type": "markdown",
      "metadata": {
        "id": "4dUkYBK9vtgZ"
      },
      "source": [
        "## EDA"
      ]
    },
    {
      "cell_type": "code",
      "metadata": {
        "id": "6r3RKuo7vr_g"
      },
      "source": [
        "class EDA(object):\n",
        "  def __init__(self, dataset):\n",
        "    self._dataset = dataset\n",
        "\n",
        "    self._number_of_samples()\n",
        "    self._class_weight()\n",
        "\n",
        "  def _number_of_samples(self):\n",
        "    print(f\"Total number of samples: {len(self._dataset.train_sentences) + len(self._dataset.test_sentences)}\")\n",
        "\n",
        "  def _class_weight(self):\n",
        "    class_weights = class_weight.compute_class_weight('balanced',\n",
        "                                                 np.unique(self._dataset.train_labels),\n",
        "                                                 self._dataset.train_labels)\n",
        "    for i in zip(class_weights, np.unique(self._dataset.train_labels)):\n",
        "      print(f\"Class {i[1]} and its weight is {round(i[0], 4)}\")"
      ],
      "execution_count": null,
      "outputs": []
    },
    {
      "cell_type": "code",
      "metadata": {
        "colab": {
          "base_uri": "https://localhost:8080/",
          "height": 82,
          "referenced_widgets": [
            "ab304a97d0ea45b39a5303becbb8c649",
            "3eaab6c85b244c69bdf6d9ba9c7ad358",
            "b5f8385ff1564899993d26d9fe8464cf",
            "92aa724f8b3643888819f190989f1aef",
            "5731b2f13a1d46b393984dde2df6ee10",
            "04fccadb86674f5eba0a83398745c0c6",
            "c1fd270c8f3344069dd198fa223ab2f3",
            "7c13d6acbd5b4ae1a1332875e4c30457",
            "1e2a2b6f48c045ac9191b9b7dc150373",
            "954f1c67657c4b6dabe44d7e1f56347e",
            "a3ba2ef4d64e4e10a87166947b8a8044"
          ]
        },
        "id": "IEq2kVtiv2GH",
        "outputId": "24a6263c-a5f8-4c5f-823e-6f3d66ec7ee1"
      },
      "source": [
        "dataset = LimitTextDataset()\n",
        "# dataset.test_sentence_vector.shape"
      ],
      "execution_count": null,
      "outputs": [
        {
          "output_type": "stream",
          "name": "stderr",
          "text": [
            "Using custom data configuration default\n",
            "Reusing dataset limit (/root/.cache/huggingface/datasets/limit/default/1.0.0/6319c49a88c20afbe30e3479adf2b0904cfb0a8244b435d8d18f894f485636e6)\n"
          ]
        },
        {
          "output_type": "display_data",
          "data": {
            "application/vnd.jupyter.widget-view+json": {
              "model_id": "ab304a97d0ea45b39a5303becbb8c649",
              "version_minor": 0,
              "version_major": 2
            },
            "text/plain": [
              "  0%|          | 0/2 [00:00<?, ?it/s]"
            ]
          },
          "metadata": {}
        }
      ]
    },
    {
      "cell_type": "code",
      "metadata": {
        "colab": {
          "base_uri": "https://localhost:8080/"
        },
        "id": "Z4PfSkJAw0F_",
        "outputId": "45950064-dfe6-4757-e4e4-4cee89ebfda3"
      },
      "source": [
        "eda = EDA(dataset=dataset)"
      ],
      "execution_count": null,
      "outputs": [
        {
          "output_type": "stream",
          "name": "stdout",
          "text": [
            "Total number of samples: 24559\n",
            "Class 0 and its weight is 1.3237\n",
            "Class 1 and its weight is 0.8035\n"
          ]
        }
      ]
    },
    {
      "cell_type": "markdown",
      "metadata": {
        "id": "xH4WEuRTpQG8"
      },
      "source": [
        "## 1. MultinomialNB \n",
        "\n",
        "- **Selection Criteria**\n",
        "  - When there is less data for training\n",
        "  - Features are independent to each other (which is not the case with text)\n",
        "- **Input Features**: Count Vectors\n",
        "- **Output values**: Class value"
      ]
    },
    {
      "cell_type": "markdown",
      "metadata": {
        "id": "xE_Y1kw0y8Vp"
      },
      "source": [
        "**With TFIDF Features**"
      ]
    },
    {
      "cell_type": "code",
      "metadata": {
        "colab": {
          "base_uri": "https://localhost:8080/"
        },
        "id": "rp7CAICvm0rz",
        "outputId": "c5ac5a10-d1a7-4e0f-f312-4a558e171c54"
      },
      "source": [
        "multinomial_nb_model = MultinomialNB().fit(dataset.train_tfidf_vector, dataset.train_labels)\n",
        "\n",
        "test_prediction = multinomial_nb_model.predict(dataset.test_tfidf_vector)\n",
        "\n",
        "result = dataset.classification_report(test_predictions=test_prediction)\n",
        "print(result)"
      ],
      "execution_count": null,
      "outputs": [
        {
          "output_type": "stream",
          "name": "stdout",
          "text": [
            "              precision    recall  f1-score   support\n",
            "\n",
            "          no       0.49      0.42      0.45       314\n",
            "         yes       0.75      0.80      0.77       686\n",
            "\n",
            "    accuracy                           0.68      1000\n",
            "   macro avg       0.62      0.61      0.61      1000\n",
            "weighted avg       0.67      0.68      0.67      1000\n",
            "\n"
          ]
        }
      ]
    },
    {
      "cell_type": "markdown",
      "metadata": {
        "id": "ylFAKJ6wy_mM"
      },
      "source": [
        "**With Count Vectors**"
      ]
    },
    {
      "cell_type": "code",
      "metadata": {
        "colab": {
          "base_uri": "https://localhost:8080/"
        },
        "id": "X01qCIv3pShX",
        "outputId": "e428f9ba-842a-4b53-c60d-c9db7bdc4048"
      },
      "source": [
        "multinomial_nb_model = MultinomialNB().fit(dataset.train_count_vector, dataset.train_labels)\n",
        "\n",
        "test_prediction = multinomial_nb_model.predict(dataset.test_tfidf_vector)\n",
        "\n",
        "result = dataset.classification_report(test_predictions=test_prediction)\n",
        "print(result)"
      ],
      "execution_count": null,
      "outputs": [
        {
          "output_type": "stream",
          "name": "stdout",
          "text": [
            "              precision    recall  f1-score   support\n",
            "\n",
            "          no       0.46      0.46      0.46       314\n",
            "         yes       0.75      0.75      0.75       686\n",
            "\n",
            "    accuracy                           0.66      1000\n",
            "   macro avg       0.60      0.61      0.61      1000\n",
            "weighted avg       0.66      0.66      0.66      1000\n",
            "\n"
          ]
        }
      ]
    },
    {
      "cell_type": "markdown",
      "metadata": {
        "id": "PZq0X450yN10"
      },
      "source": [
        "## 2. FastText Model Trainng and Evaluation"
      ]
    },
    {
      "cell_type": "markdown",
      "metadata": {
        "id": "5YEP5rxZNNOK"
      },
      "source": [
        "**Prepare text file for training**"
      ]
    },
    {
      "cell_type": "code",
      "metadata": {
        "id": "zeIu8yeryMGc"
      },
      "source": [
        "\"\"\"\n",
        "Prepare data files, with each line as follows:\n",
        "sentence __label__target\n",
        "\"\"\"\n",
        "def write_to_text(sentences, targets, out_file_name):\n",
        "  with open(out_file_name, \"w\") as file:\n",
        "    for sentence, target in zip(sentences, targets):\n",
        "      file.write(f\"{sentence} __label__{target}\\n\")\n",
        "\n",
        "\n",
        "write_to_text(dataset.train_sentences, dataset.train_labels_raw, \"train.fasttext.data\")\n",
        "write_to_text(dataset.test_sentences, dataset.test_labels_raw, \"test.fasttext.data\")"
      ],
      "execution_count": null,
      "outputs": []
    },
    {
      "cell_type": "code",
      "metadata": {
        "id": "RMwQIGr4ORTb"
      },
      "source": [
        "\n",
        "fasttext_classifier = fasttext.train_supervised(\"train.fasttext.data\", \n",
        "                                                wordNgrams=3, \n",
        "                                                lr=0.1, \n",
        "                                                epoch=20, \n",
        "                                                loss='hs', \n",
        "                                                dim=50)\n",
        "fasttext_classifier.save_model(\"/content/models/fasttext_classifier.fasttext.model\")"
      ],
      "execution_count": null,
      "outputs": []
    },
    {
      "cell_type": "code",
      "metadata": {
        "colab": {
          "base_uri": "https://localhost:8080/"
        },
        "id": "rcQO8aBiPp_r",
        "outputId": "c4b0138c-2be1-454e-efc8-7a5d84f0f7fe"
      },
      "source": [
        "fasttext_classifier.test(\"test.fasttext.data\")"
      ],
      "execution_count": null,
      "outputs": [
        {
          "output_type": "execute_result",
          "data": {
            "text/plain": [
              "(1000, 0.771, 0.771)"
            ]
          },
          "metadata": {},
          "execution_count": 90
        }
      ]
    },
    {
      "cell_type": "code",
      "metadata": {
        "colab": {
          "base_uri": "https://localhost:8080/"
        },
        "id": "pT8PAsLGXM53",
        "outputId": "c2864f52-ddb8-44cf-e0bd-5e8c66f4523a"
      },
      "source": [
        "fasttext_classifier.predict(\"My baby was sitting\")"
      ],
      "execution_count": null,
      "outputs": [
        {
          "output_type": "execute_result",
          "data": {
            "text/plain": [
              "(('__label__no',), array([0.99729502]))"
            ]
          },
          "metadata": {},
          "execution_count": 91
        }
      ]
    },
    {
      "cell_type": "code",
      "metadata": {
        "colab": {
          "base_uri": "https://localhost:8080/"
        },
        "id": "KJzBC4eeP_CW",
        "outputId": "99afd14d-5e6c-43d0-eaa7-6623db44a415"
      },
      "source": [
        "! ls -alsh /content/models/"
      ],
      "execution_count": null,
      "outputs": [
        {
          "output_type": "stream",
          "name": "stdout",
          "text": [
            "total 391M\n",
            "4.0K drwxr-xr-x 2 root root 4.0K Oct 30 06:20 .\n",
            "4.0K drwxr-xr-x 1 root root 4.0K Oct 30 06:18 ..\n",
            "391M -rw-r--r-- 1 root root 391M Oct 30 06:20 fasttext_classifier.fasttext.model\n"
          ]
        }
      ]
    },
    {
      "cell_type": "markdown",
      "metadata": {
        "id": "qOM5xnYCZCbk"
      },
      "source": [
        "# 3. LinearSVC Model Training and Evaluation"
      ]
    },
    {
      "cell_type": "code",
      "metadata": {
        "colab": {
          "base_uri": "https://localhost:8080/"
        },
        "id": "A9k2vvBqbKvk",
        "outputId": "1f4c4092-3fb0-484a-a919-f7c442fd8bb5"
      },
      "source": [
        "svc = LinearSVC(random_state=42, dual=False, max_iter=10000)\n",
        "\n",
        "svc.fit(dataset.train_sentence_vector, dataset.train_labels)"
      ],
      "execution_count": null,
      "outputs": [
        {
          "output_type": "stream",
          "name": "stderr",
          "text": [
            "100%|██████████| 23559/23559 [04:59<00:00, 78.69it/s]\n"
          ]
        },
        {
          "output_type": "execute_result",
          "data": {
            "text/plain": [
              "LinearSVC(C=1.0, class_weight=None, dual=False, fit_intercept=True,\n",
              "          intercept_scaling=1, loss='squared_hinge', max_iter=10000,\n",
              "          multi_class='ovr', penalty='l2', random_state=42, tol=0.0001,\n",
              "          verbose=0)"
            ]
          },
          "metadata": {},
          "execution_count": 93
        }
      ]
    },
    {
      "cell_type": "code",
      "metadata": {
        "colab": {
          "base_uri": "https://localhost:8080/"
        },
        "id": "H5hSi6_Sfcll",
        "outputId": "290203c6-f6dc-4dd5-b7b9-b3415b2ab4fc"
      },
      "source": [
        "print(f\"Accuracy: {svc.score(dataset.test_sentence_vector, dataset.test_labels) * 100}%\")"
      ],
      "execution_count": null,
      "outputs": [
        {
          "output_type": "stream",
          "name": "stdout",
          "text": [
            "Accuracy: 74.2%\n"
          ]
        }
      ]
    },
    {
      "cell_type": "markdown",
      "metadata": {
        "id": "1ZEy7gU6bpoW"
      },
      "source": [
        "# 4. Random Forest Classfier"
      ]
    },
    {
      "cell_type": "code",
      "metadata": {
        "id": "9UoEsaL5p5WF"
      },
      "source": [
        "token_counts = defaultdict(lambda : 0)\n",
        "\n",
        "for sentence in train"
      ],
      "execution_count": null,
      "outputs": []
    },
    {
      "cell_type": "code",
      "metadata": {
        "id": "t5PwRv3BgGUU"
      },
      "source": [
        "\n",
        "random_forest_classifier_model = RandomForestClassifier(n_estimators=100).fit(dataset.train_count_vector, dataset.train_labels)\n"
      ],
      "execution_count": null,
      "outputs": []
    },
    {
      "cell_type": "code",
      "metadata": {
        "colab": {
          "base_uri": "https://localhost:8080/"
        },
        "id": "_YTr-wWqi2fR",
        "outputId": "e868c04f-78ed-46fa-847e-29e8683145ce"
      },
      "source": [
        "test_prediction = random_forest_classifier_model.predict(dataset.test_count_vector)\n",
        "\n",
        "result = dataset.classification_report(test_predictions=test_prediction)\n",
        "print(result)\n"
      ],
      "execution_count": null,
      "outputs": [
        {
          "output_type": "stream",
          "name": "stdout",
          "text": [
            "              precision    recall  f1-score   support\n",
            "\n",
            "          no       0.58      0.61      0.59       314\n",
            "         yes       0.81      0.80      0.81       686\n",
            "\n",
            "    accuracy                           0.74      1000\n",
            "   macro avg       0.70      0.70      0.70      1000\n",
            "weighted avg       0.74      0.74      0.74      1000\n",
            "\n"
          ]
        }
      ]
    },
    {
      "cell_type": "code",
      "metadata": {
        "id": "dXZLXBk3cZZU"
      },
      "source": [
        "feature_importances = random_forest_classifier_model.feature_importances_\n",
        "feature_names = dataset._count_vectorizer_model.get_feature_names()\n",
        "feature_names = np.array(feature_names)"
      ],
      "execution_count": null,
      "outputs": []
    },
    {
      "cell_type": "code",
      "metadata": {
        "id": "wJBMpUDIdt7m"
      },
      "source": [
        "feature_importances_sorted_index = feature_importances.argsort()"
      ],
      "execution_count": null,
      "outputs": []
    },
    {
      "cell_type": "code",
      "metadata": {
        "id": "E3o87c-TdwwE"
      },
      "source": [
        "feature_importances = feature_importances[feature_importances_sorted_index]\n",
        "feature_names = feature_names[feature_importances_sorted_index]"
      ],
      "execution_count": null,
      "outputs": []
    },
    {
      "cell_type": "code",
      "metadata": {
        "colab": {
          "base_uri": "https://localhost:8080/"
        },
        "id": "tQWdxwQO4qpJ",
        "outputId": "1864568a-9bdc-4c49-d123-3e73c58426eb"
      },
      "source": [
        "for values in zip(feature_names[-10:], feature_importances[-10:]):\n",
        "  print(values)"
      ],
      "execution_count": null,
      "outputs": [
        {
          "output_type": "stream",
          "name": "stdout",
          "text": [
            "('then', 0.005517588915782637)\n",
            "('was', 0.0056740841221135105)\n",
            "('man', 0.006353359959115299)\n",
            "('to', 0.006389540157758334)\n",
            "('he', 0.006436058945577703)\n",
            "('that', 0.0065256194834403146)\n",
            "('of', 0.006577527972085963)\n",
            "('you', 0.009436902821438338)\n",
            "('and', 0.010008436655978175)\n",
            "('the', 0.012425149377034237)\n"
          ]
        }
      ]
    },
    {
      "cell_type": "code",
      "metadata": {
        "colab": {
          "base_uri": "https://localhost:8080/",
          "height": 282
        },
        "id": "ze4UqsWc5B43",
        "outputId": "86a7e15f-8371-47a5-d447-542fe0a1fc13"
      },
      "source": [
        "plt.barh(feature_names[-10:], feature_importances[-10:])"
      ],
      "execution_count": null,
      "outputs": [
        {
          "output_type": "execute_result",
          "data": {
            "text/plain": [
              "<BarContainer object of 10 artists>"
            ]
          },
          "metadata": {},
          "execution_count": 123
        },
        {
          "output_type": "display_data",
          "data": {
            "image/png": "[encoded data removed]",
            "text/plain": [
              "<Figure size 432x288 with 1 Axes>"
            ]
          },
          "metadata": {
            "needs_background": "light"
          }
        }
      ]
    },
    {
      "cell_type": "code",
      "metadata": {
        "id": "g0blv9-g8HnS"
      },
      "source": [
        ""
      ],
      "execution_count": null,
      "outputs": []
    }
  ]
}
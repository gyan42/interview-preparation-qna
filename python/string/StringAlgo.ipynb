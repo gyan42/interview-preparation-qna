{
 "cells": [
  {
   "cell_type": "code",
   "execution_count": 224,
   "id": "facial-wound",
   "metadata": {},
   "outputs": [],
   "source": [
    "%config Completer.use_jedi = False"
   ]
  },
  {
   "cell_type": "markdown",
   "id": "lonely-sigma",
   "metadata": {},
   "source": [
    "**How do you reverse a given string in place?**"
   ]
  },
  {
   "cell_type": "code",
   "execution_count": 17,
   "id": "elect-dependence",
   "metadata": {},
   "outputs": [],
   "source": [
    "s = \"abcd\""
   ]
  },
  {
   "cell_type": "code",
   "execution_count": 18,
   "id": "emerging-stick",
   "metadata": {},
   "outputs": [
    {
     "data": {
      "text/plain": [
       "'dcba'"
      ]
     },
     "execution_count": 18,
     "metadata": {},
     "output_type": "execute_result"
    }
   ],
   "source": [
    "def reverse(s):\n",
    "    ret = ''\n",
    "    for c in s:\n",
    "        ret = c + ret\n",
    "    return ret\n",
    "\n",
    "reverse(s)"
   ]
  },
  {
   "cell_type": "code",
   "execution_count": 19,
   "id": "cognitive-edinburgh",
   "metadata": {},
   "outputs": [
    {
     "data": {
      "text/plain": [
       "'dcba'"
      ]
     },
     "execution_count": 19,
     "metadata": {},
     "output_type": "execute_result"
    }
   ],
   "source": [
    "def reverse(s):\n",
    "    if len(s) == 0:\n",
    "        return s\n",
    "    else:\n",
    "        return reverse(s[1:]) + s[0]\n",
    "reverse(s)"
   ]
  },
  {
   "cell_type": "code",
   "execution_count": 22,
   "id": "weird-truth",
   "metadata": {},
   "outputs": [
    {
     "name": "stdout",
     "output_type": "stream",
     "text": [
      "dcba\n"
     ]
    }
   ],
   "source": [
    "class Stack(object):\n",
    "    def __init__(self):\n",
    "        self._data = []\n",
    "    \n",
    "    def size(self):\n",
    "        return len(self._data)\n",
    "    \n",
    "    def push(self, item):\n",
    "        self._data.append(item)\n",
    "        \n",
    "    def pop(self):\n",
    "        if self.size() > 0:\n",
    "            return self._data.pop()\n",
    "        else:\n",
    "            return None\n",
    "        \n",
    "    def __repr__(self):\n",
    "        return str(self._data)\n",
    "        \n",
    "def reverse(s):\n",
    "    stack = Stack()\n",
    "    for c in s:\n",
    "        stack.push(c)\n",
    "    ret = \"\"\n",
    "    while stack.size() > 0:\n",
    "        ret += stack.pop()\n",
    "    return ret\n",
    "\n",
    "print(reverse(s))"
   ]
  },
  {
   "cell_type": "code",
   "execution_count": 23,
   "id": "radio-penalty",
   "metadata": {},
   "outputs": [
    {
     "data": {
      "text/plain": [
       "'dcba'"
      ]
     },
     "execution_count": 23,
     "metadata": {},
     "output_type": "execute_result"
    }
   ],
   "source": [
    "s[::-1]"
   ]
  },
  {
   "cell_type": "markdown",
   "id": "crucial-carroll",
   "metadata": {},
   "source": [
    "**How do you print duplicate characters from a string?**"
   ]
  },
  {
   "cell_type": "code",
   "execution_count": 29,
   "id": "aboriginal-genre",
   "metadata": {},
   "outputs": [
    {
     "data": {
      "text/plain": [
       "'  d c i a p r n s u t e o'"
      ]
     },
     "execution_count": 29,
     "metadata": {},
     "output_type": "execute_result"
    }
   ],
   "source": [
    "s = \"How do you print duplicate characters from a string?\"\n",
    "\n",
    "def find_duplicates(s):\n",
    "    res = set()\n",
    "    for c in s:\n",
    "        if s.count(c) > 1:\n",
    "            res.add(c)\n",
    "    return \" \".join(res)\n",
    "\n",
    "find_duplicates(s)"
   ]
  },
  {
   "cell_type": "code",
   "execution_count": 33,
   "id": "answering-pressing",
   "metadata": {},
   "outputs": [
    {
     "name": "stdout",
     "output_type": "stream",
     "text": [
      "o, ,d,u,p,r,i,n,t,c,a,e,s,"
     ]
    }
   ],
   "source": [
    "from collections import defaultdict\n",
    "def find_duplicates(s):\n",
    "    res = defaultdict(lambda : 0)\n",
    "    for c in s:\n",
    "        res[c] += 1\n",
    "    \n",
    "    for key, value in res.items():\n",
    "        if value > 1:\n",
    "            print(key, end= \",\")\n",
    "find_duplicates(s)       "
   ]
  },
  {
   "cell_type": "code",
   "execution_count": 38,
   "id": "favorite-cathedral",
   "metadata": {},
   "outputs": [
    {
     "data": {
      "text/plain": [
       "['o', ' ', 'd', 'u', 'p', 'r', 'i', 'n', 't', 'c', 'a', 'e', 's']"
      ]
     },
     "execution_count": 38,
     "metadata": {},
     "output_type": "execute_result"
    }
   ],
   "source": [
    "from collections import Counter\n",
    "[k for k, v in Counter(s).items() if v > 1]"
   ]
  },
  {
   "cell_type": "markdown",
   "id": "sorted-pride",
   "metadata": {},
   "source": [
    "**How do you check if two strings are anagrams of each other?**"
   ]
  },
  {
   "cell_type": "code",
   "execution_count": 51,
   "id": "narrative-hardware",
   "metadata": {},
   "outputs": [
    {
     "data": {
      "text/plain": [
       "(True, False)"
      ]
     },
     "execution_count": 51,
     "metadata": {},
     "output_type": "execute_result"
    }
   ],
   "source": [
    "s1 = \"listen\"\n",
    "s2 = \"silent\"\n",
    "s3 = \"abc\"\n",
    "s4 = \"silent\"\n",
    "\n",
    "def are_anagram(s1, s2):\n",
    "    return sorted(s1) == sorted(s2)\n",
    "are_anagram(s1, s2), are_anagram(s1, s3)"
   ]
  },
  {
   "cell_type": "code",
   "execution_count": 49,
   "id": "verified-flight",
   "metadata": {},
   "outputs": [
    {
     "data": {
      "text/plain": [
       "(True, False)"
      ]
     },
     "execution_count": 49,
     "metadata": {},
     "output_type": "execute_result"
    }
   ],
   "source": [
    "from collections import Counter\n",
    "def are_anagram(s1, s2):\n",
    "    return Counter(s1) == Counter(s2)\n",
    "are_anagram(s1, s2), are_anagram(s1, s3)"
   ]
  },
  {
   "cell_type": "code",
   "execution_count": 50,
   "id": "future-composition",
   "metadata": {},
   "outputs": [
    {
     "data": {
      "text/plain": [
       "(True, False, False)"
      ]
     },
     "execution_count": 50,
     "metadata": {},
     "output_type": "execute_result"
    }
   ],
   "source": [
    "def are_anagram(s1, s2):\n",
    "    c1 = Counter(s1)\n",
    "    c2 = Counter(s2)\n",
    "    for k, v in c1.items():\n",
    "        if c2[k] != v:\n",
    "            return False\n",
    "    return True\n",
    "are_anagram(s1, s2), are_anagram(s1, s3), are_anagram(s1, s4)"
   ]
  },
  {
   "cell_type": "markdown",
   "id": "macro-howard",
   "metadata": {},
   "source": [
    "**Group anagram in given string array**"
   ]
  },
  {
   "cell_type": "code",
   "execution_count": 52,
   "id": "accurate-great",
   "metadata": {},
   "outputs": [],
   "source": [
    "arr =  [\"eat\", \"tea\", \"tan\", \"ate\", \"nat\", \"bat\"]"
   ]
  },
  {
   "cell_type": "code",
   "execution_count": 60,
   "id": "legendary-liquid",
   "metadata": {},
   "outputs": [
    {
     "data": {
      "text/plain": [
       "dict_values([['eat', 'tea', 'ate'], ['tan', 'nat'], ['bat']])"
      ]
     },
     "execution_count": 60,
     "metadata": {},
     "output_type": "execute_result"
    }
   ],
   "source": [
    "from collections import defaultdict\n",
    "def group_anagram(arr):\n",
    "    grp = defaultdict(list)\n",
    "    for s in arr:\n",
    "        k = \"\".join(sorted(s))\n",
    "        grp[k].append(s)\n",
    "    return grp.values()\n",
    "\n",
    "group_anagram(arr)"
   ]
  },
  {
   "cell_type": "markdown",
   "id": "numerous-complex",
   "metadata": {},
   "source": [
    "**How do you find all the permutations of a string?**"
   ]
  },
  {
   "cell_type": "code",
   "execution_count": 47,
   "id": "silver-emergency",
   "metadata": {},
   "outputs": [
    {
     "name": "stdout",
     "output_type": "stream",
     "text": [
      "abc\n",
      "acb\n",
      "bac\n",
      "bca\n",
      "cab\n",
      "cba\n"
     ]
    }
   ],
   "source": [
    "from itertools import permutations\n",
    "s = \"abc\"\n",
    "for l in permutations(s):\n",
    "    print(\"\".join(l))"
   ]
  },
  {
   "cell_type": "code",
   "execution_count": 53,
   "id": "utility-flood",
   "metadata": {},
   "outputs": [
    {
     "data": {
      "text/plain": [
       "{'EEGK',\n",
       " 'EEKG',\n",
       " 'EGEK',\n",
       " 'EGKE',\n",
       " 'EKEG',\n",
       " 'EKGE',\n",
       " 'GEEK',\n",
       " 'GEKE',\n",
       " 'GKEE',\n",
       " 'KEEG',\n",
       " 'KEGE',\n",
       " 'KGEE'}"
      ]
     },
     "execution_count": 53,
     "metadata": {},
     "output_type": "execute_result"
    }
   ],
   "source": [
    "s = \"GEEK\"\n",
    "res = set()\n",
    "for l in permutations(s):\n",
    "    res.add(\"\".join(l))\n",
    "res\n",
    "    "
   ]
  },
  {
   "attachments": {
    "747ecb15-c189-4438-ad6b-c913107dafcd.png": {
     "image/png": "[encoded data removed]"
    }
   },
   "cell_type": "markdown",
   "id": "unlimited-regard",
   "metadata": {},
   "source": [
    "![image.png](attachment:747ecb15-c189-4438-ad6b-c913107dafcd.png)"
   ]
  },
  {
   "cell_type": "code",
   "execution_count": 193,
   "id": "impressed-nightlife",
   "metadata": {},
   "outputs": [
    {
     "name": "stdout",
     "output_type": "stream",
     "text": [
      "swap(0,0, A,A, ABC)\n",
      "swap(1,1, B,B, ABC)\n",
      "swap(2,2, C,C, ABC)\n",
      "ABC\n",
      "<---swap(2,2, C,C, ABC)\n",
      "<---swap(1,1, B,B, ABC)\n",
      "swap(1,2, B,C, ABC)\n",
      "swap(2,2, B,B, ACB)\n",
      "ACB\n",
      "<---swap(2,2, B,B, ACB)\n",
      "<---swap(1,2, C,B, ACB)\n",
      "<---swap(0,0, A,A, ABC)\n",
      "swap(0,1, A,B, ABC)\n",
      "swap(1,1, A,A, BAC)\n",
      "swap(2,2, C,C, BAC)\n",
      "BAC\n",
      "<---swap(2,2, C,C, BAC)\n",
      "<---swap(1,1, A,A, BAC)\n",
      "swap(1,2, A,C, BAC)\n",
      "swap(2,2, A,A, BCA)\n",
      "BCA\n",
      "<---swap(2,2, A,A, BCA)\n",
      "<---swap(1,2, C,A, BCA)\n",
      "<---swap(0,1, B,A, BAC)\n",
      "swap(0,2, A,C, ABC)\n",
      "swap(1,1, B,B, CBA)\n",
      "swap(2,2, A,A, CBA)\n",
      "CBA\n",
      "<---swap(2,2, A,A, CBA)\n",
      "<---swap(1,1, B,B, CBA)\n",
      "swap(1,2, B,A, CBA)\n",
      "swap(2,2, B,B, CAB)\n",
      "CAB\n",
      "<---swap(2,2, B,B, CAB)\n",
      "<---swap(1,2, A,B, CAB)\n",
      "<---swap(0,2, C,A, CBA)\n"
     ]
    },
    {
     "data": {
      "text/plain": [
       "['ABC', 'ACB', 'BAC', 'BCA', 'CBA', 'CAB']"
      ]
     },
     "execution_count": 193,
     "metadata": {},
     "output_type": "execute_result"
    }
   ],
   "source": [
    "s = \"ABC\"\n",
    "def permutate(s):\n",
    "    res = []\n",
    "    \n",
    "    def swap(arr, i, j):\n",
    "#         if i != j:\n",
    "        r = \"\".join(arr)\n",
    "        print(f\"swap({i},{j}, {arr[i]},{arr[j]}, {r})\")\n",
    "        t = arr[i]\n",
    "        arr[i] = arr[j]\n",
    "        arr[j] = t\n",
    "        \n",
    "    def _p(s, curr_index):\n",
    "        t = \"\".join(s)\n",
    "        \n",
    "        if len(s) == curr_index:\n",
    "            r = \"\".join(s)\n",
    "            print(r)\n",
    "            res.append(r)\n",
    "        \n",
    "        for i in range(curr_index, len(s)):\n",
    "#             if i!= curr_index:\n",
    "            swap(s, curr_index, i)\n",
    "            _p(s, curr_index+1)\n",
    "#             if i!= curr_index:\n",
    "            print(\"<---\", end=\"\")\n",
    "            swap(s, curr_index, i)\n",
    "#             print(\"\\n\")\n",
    "    \n",
    "    _p(s, 0)\n",
    "    return res\n",
    "\n",
    "permutate(list(s))"
   ]
  },
  {
   "cell_type": "code",
   "execution_count": 174,
   "id": "broke-sheep",
   "metadata": {},
   "outputs": [
    {
     "data": {
      "text/plain": [
       "120"
      ]
     },
     "execution_count": 174,
     "metadata": {},
     "output_type": "execute_result"
    }
   ],
   "source": [
    "len(permutate(list(\"mages\")))"
   ]
  },
  {
   "cell_type": "markdown",
   "id": "considerable-ratio",
   "metadata": {},
   "source": [
    "**How do you check if a string contains only digits?**"
   ]
  },
  {
   "cell_type": "code",
   "execution_count": 210,
   "id": "mexican-zoning",
   "metadata": {},
   "outputs": [
    {
     "data": {
      "text/plain": [
       "(True, False)"
      ]
     },
     "execution_count": 210,
     "metadata": {},
     "output_type": "execute_result"
    }
   ],
   "source": [
    "def is_numeric(s):\n",
    "    for c in s:\n",
    "        if not (ord(c) >= ord('0') and ord(c) <= ord('9')):\n",
    "            return False\n",
    "    return True\n",
    "\n",
    "is_numeric(\"123\"), is_numeric(\"123a\")\n",
    "            "
   ]
  },
  {
   "cell_type": "markdown",
   "id": "drawn-certificate",
   "metadata": {},
   "source": [
    "**How do you convert a given String into int like the atoi()?**"
   ]
  },
  {
   "cell_type": "code",
   "execution_count": 216,
   "id": "based-fields",
   "metadata": {},
   "outputs": [
    {
     "data": {
      "text/plain": [
       "(123, -1)"
      ]
     },
     "execution_count": 216,
     "metadata": {},
     "output_type": "execute_result"
    }
   ],
   "source": [
    "def atoi(s):\n",
    "    ret = 0\n",
    "    for c in s:\n",
    "        if not (ord(c) >= ord('0') and ord(c) <= ord('9')):\n",
    "            return -1\n",
    "        else:\n",
    "            ret = (ret * 10)+ int(c)\n",
    "    return ret\n",
    "\n",
    "atoi(\"123\"), atoi(\"12s\")"
   ]
  },
  {
   "cell_type": "markdown",
   "id": "naughty-intelligence",
   "metadata": {},
   "source": [
    "**How do you check if two strings are a rotation of each other?**"
   ]
  },
  {
   "cell_type": "code",
   "execution_count": 223,
   "id": "virtual-animal",
   "metadata": {},
   "outputs": [
    {
     "data": {
      "text/plain": [
       "(True, False, False, True)"
      ]
     },
     "execution_count": 223,
     "metadata": {},
     "output_type": "execute_result"
    }
   ],
   "source": [
    "str1 = \"ABACD\"\n",
    "str2 = \"CDABA\"\n",
    "\n",
    "def are_rotations(s1, s2):\n",
    "    if s1 and s2:\n",
    "        return (s1+s1).count(s2) > 0\n",
    "    else:\n",
    "        return False\n",
    "\n",
    "are_rotations(str1,str2), are_rotations(\"ABCD\", \"ASDF\"), are_rotations(None, \"\"), are_rotations(\"GEEKS\", \"EKSGE\")"
   ]
  },
  {
   "cell_type": "markdown",
   "id": "south-maintenance",
   "metadata": {},
   "source": [
    "**First non-repeating character using one traversal of string**"
   ]
  },
  {
   "cell_type": "code",
   "execution_count": 19,
   "id": "loose-transparency",
   "metadata": {},
   "outputs": [
    {
     "data": {
      "text/plain": [
       "'m'"
      ]
     },
     "execution_count": 19,
     "metadata": {},
     "output_type": "execute_result"
    }
   ],
   "source": [
    "import math\n",
    "import sys\n",
    "\n",
    "s = \"mageswaran\"\n",
    "##store the first occurance index and find minimum of those all\n",
    "def first_non_repeating_char_index(s):\n",
    "    NUM_CHARS = 256\n",
    "    arr = [-1 for i in range(NUM_CHARS)] # init with -1 \n",
    "\n",
    "    for i in range(len(s)):\n",
    "        c = s[i]\n",
    "        if arr[ord(c)] == -1: #1st occurance\n",
    "            arr[ord(c)] = i\n",
    "        else:\n",
    "            arr[ord(c)] == -2\n",
    "\n",
    "    # Regardless of the length of the input string, the indexes are reduced to 256 chars\n",
    "    min_index = sys.maxsize\n",
    "    for i in arr:\n",
    "        if i >= 0:\n",
    "            min_index = min(i, min_index)\n",
    "#     print(min_index)    \n",
    "    return min_index\n",
    "\n",
    "\n",
    "i = first_non_repeating_char_index(s)\n",
    "s[i]"
   ]
  },
  {
   "cell_type": "markdown",
   "id": "domestic-reduction",
   "metadata": {},
   "source": [
    "**How do you check if a given string is a palindrome?**"
   ]
  },
  {
   "cell_type": "code",
   "execution_count": 20,
   "id": "whole-channel",
   "metadata": {},
   "outputs": [
    {
     "data": {
      "text/plain": [
       "True"
      ]
     },
     "execution_count": 20,
     "metadata": {},
     "output_type": "execute_result"
    }
   ],
   "source": [
    "s = \"malayalam\"\n",
    "\n",
    "s == s[::-1]"
   ]
  },
  {
   "cell_type": "code",
   "execution_count": 25,
   "id": "swedish-variance",
   "metadata": {},
   "outputs": [
    {
     "data": {
      "text/plain": [
       "(True, False, False, True)"
      ]
     },
     "execution_count": 25,
     "metadata": {},
     "output_type": "execute_result"
    }
   ],
   "source": [
    "def is_palindrome(s):\n",
    "    if s is None:\n",
    "        return False\n",
    "    \n",
    "    l = len(s)\n",
    "    \n",
    "    if l < 2:\n",
    "        return True\n",
    "    \n",
    "    if s[0] == s[-1]:\n",
    "        return is_palindrome(s[1:l-1])\n",
    "    else:\n",
    "        return False\n",
    "    \n",
    "is_palindrome(s), is_palindrome(\"mages\"), is_palindrome(None), is_palindrome(\"\")"
   ]
  },
  {
   "cell_type": "markdown",
   "id": "proper-title",
   "metadata": {},
   "source": [
    "**Print Longest substring without repeating characters**"
   ]
  },
  {
   "cell_type": "code",
   "execution_count": 29,
   "id": "polish-mining",
   "metadata": {},
   "outputs": [
    {
     "data": {
      "text/plain": [
       "True"
      ]
     },
     "execution_count": 29,
     "metadata": {},
     "output_type": "execute_result"
    }
   ],
   "source": [
    "\"magesz\" > \"mages\""
   ]
  },
  {
   "cell_type": "markdown",
   "id": "gothic-marine",
   "metadata": {},
   "source": [
    "**How do you find the length of the longest substring without repeating characters?**"
   ]
  },
  {
   "cell_type": "markdown",
   "id": "former-salvation",
   "metadata": {},
   "source": [
    "https://www.geeksforgeeks.org/length-of-the-longest-substring-without-repeating-characters/"
   ]
  },
  {
   "cell_type": "markdown",
   "id": "after-recording",
   "metadata": {},
   "source": [
    "https://www.geeksforgeeks.org/print-longest-substring-without-repeating-characters/"
   ]
  },
  {
   "cell_type": "code",
   "execution_count": 1,
   "id": "certified-portrait",
   "metadata": {},
   "outputs": [
    {
     "data": {
      "text/plain": [
       "'EKSFORGEE'"
      ]
     },
     "execution_count": 1,
     "metadata": {},
     "output_type": "execute_result"
    }
   ],
   "source": [
    "def find_longest_sub_string(s):\n",
    "    l = len(s)\n",
    "    \n",
    "    curr_ss_st_index = 0 #sub string starting point\n",
    "    \n",
    "    # maximum length substring without\n",
    "    # repeating characters.\n",
    "    max_ss_len = 0\n",
    "    \n",
    "    max_len_ss_start_index = 0 ## starting index of maximum length substring.\n",
    "    \n",
    "    # char visited index\n",
    "    char_index_dict = {}\n",
    "    \n",
    "    char_index_dict[s[0]] = 0\n",
    "    \n",
    "    for i in range(1, l):\n",
    "        c = s[i]\n",
    "        if c not in char_index_dict:\n",
    "            char_index_dict[c] = i\n",
    "        else:\n",
    "            if char_index_dict[c] >= curr_ss_st_index:\n",
    "                curr_len = i - max_len_ss_start_index\n",
    "                if max_ss_len < curr_len:\n",
    "                    max_ss_len = curr_len\n",
    "                    max_len_ss_start_index = curr_ss_st_index\n",
    "                    \n",
    "                curr_ss_st_index = char_index_dict[c] + 1\n",
    "            char_index_dict[c] = i\n",
    "            \n",
    "    if max_ss_len < i - curr_ss_st_index:\n",
    "        max_ss_len = i - curr_ss_st_index\n",
    "        max_len_ss_start_index = curr_ss_st_index\n",
    "        \n",
    "        \n",
    "    return s[max_len_ss_start_index: max_len_ss_start_index + max_ss_len]\n",
    "\n",
    "\n",
    "find_longest_sub_string(\"GEEKSFORGEEKS\")    \n",
    "        "
   ]
  },
  {
   "cell_type": "code",
   "execution_count": 3,
   "id": "centered-hearing",
   "metadata": {},
   "outputs": [
    {
     "data": {
      "text/plain": [
       "'ranwaran'"
      ]
     },
     "execution_count": 3,
     "metadata": {},
     "output_type": "execute_result"
    }
   ],
   "source": [
    "find_longest_sub_string(\"mageswaranwaran\")"
   ]
  },
  {
   "cell_type": "markdown",
   "id": "eleven-trail",
   "metadata": {},
   "source": [
    "**Given string str, How do you find the longest palindromic substring in str?**\n"
   ]
  },
  {
   "cell_type": "markdown",
   "id": "present-investor",
   "metadata": {},
   "source": [
    "**Random string**"
   ]
  },
  {
   "cell_type": "code",
   "execution_count": 20,
   "id": "complicated-reggae",
   "metadata": {},
   "outputs": [
    {
     "name": "stdout",
     "output_type": "stream",
     "text": [
      "abcdefghijklmnopqrstuvwxyzABCDEFGHIJKLMNOPQRSTUVWXYZ0123456789\n"
     ]
    },
    {
     "data": {
      "text/plain": [
       "'IhdZtRVOhA'"
      ]
     },
     "execution_count": 20,
     "metadata": {},
     "output_type": "execute_result"
    }
   ],
   "source": [
    "import string\n",
    "import secrets\n",
    "\n",
    "def get_random_string(k=5):\n",
    "    chars = string.ascii_letters + string.digits\n",
    "    print(chars)\n",
    "    return \"\".join([secrets.choice(chars) for _ in range(k)])\n",
    "\n",
    "get_random_string(10)"
   ]
  },
  {
   "cell_type": "markdown",
   "id": "exterior-texture",
   "metadata": {},
   "source": [
    "**Generate random string based on given probability weights**"
   ]
  },
  {
   "cell_type": "code",
   "execution_count": 29,
   "id": "honest-ghost",
   "metadata": {},
   "outputs": [
    {
     "data": {
      "text/plain": [
       "'eeeeedeeaeeeaeeedbceddeededadbeebeedebebbcdeddbeed'"
      ]
     },
     "execution_count": 29,
     "metadata": {},
     "output_type": "execute_result"
    }
   ],
   "source": [
    "from numpy.random import choice\n",
    "\n",
    "def get_random_string(char_list, freq_list, k):\n",
    "    return \"\".join(choice(a=char_list, size=k, p=freq_list))\n",
    "    \n",
    "get_random_string(['a','b','c','d','e'], [0.1,0.2,0.1,0.2,0.4], 50)"
   ]
  },
  {
   "cell_type": "code",
   "execution_count": 39,
   "id": "breeding-turkey",
   "metadata": {},
   "outputs": [
    {
     "data": {
      "text/plain": [
       "'becaaededcedcddedeeeadbbbeebbebbaddaeeaebbebeeedee'"
      ]
     },
     "execution_count": 39,
     "metadata": {},
     "output_type": "execute_result"
    }
   ],
   "source": [
    "import random\n",
    "\"\".join(random.choices(['a','b','c','d','e'], weights=[0.1,0.2,0.1,0.2,0.4], k=50))"
   ]
  },
  {
   "cell_type": "code",
   "execution_count": null,
   "id": "private-panel",
   "metadata": {},
   "outputs": [],
   "source": []
  }
 ],
 "metadata": {
  "kernelspec": {
   "display_name": "Python 3",
   "language": "python",
   "name": "python3"
  },
  "language_info": {
   "codemirror_mode": {
    "name": "ipython",
    "version": 3
   },
   "file_extension": ".py",
   "mimetype": "text/x-python",
   "name": "python",
   "nbconvert_exporter": "python",
   "pygments_lexer": "ipython3",
   "version": "3.7.9"
  }
 },
 "nbformat": 4,
 "nbformat_minor": 5
}
